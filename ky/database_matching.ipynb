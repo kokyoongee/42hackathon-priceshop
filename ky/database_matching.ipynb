{
 "cells": [
  {
   "cell_type": "markdown",
   "metadata": {},
   "source": [
    "## 1. Import csv and lower() all entries\n",
    "Importing Lazada's and Priceshop csv as *lazadadf* and *psdf* respectively. Apply lower() to all of the string in both dataframes except the price in lazada's.\n",
    "\n",
    "Fields are added to Lazada's DF too."
   ]
  },
  {
   "cell_type": "code",
   "execution_count": 2,
   "metadata": {},
   "outputs": [],
   "source": [
    "import pandas as pd\n",
    "import numpy as np\n",
    "\n",
    "lazadadf = pd.read_csv(\"lazadaDatabase.csv\")\n",
    "lazadadf.columns = [\"merchant\",\"product\",\"price\",\"link\",\"brand\",\"category\"]\n",
    "lazadadf.loc[:, lazadadf.columns != \"price\"].apply(lambda x : x.str.lower())\n",
    "psdf = pd.read_csv(\"priceShopDatabase.csv\")\n",
    "psdf = psdf.apply(lambda x : x.str.lower())"
   ]
  },
  {
   "cell_type": "code",
   "execution_count": 6,
   "metadata": {},
   "outputs": [
    {
     "data": {
      "text/plain": [
       "['honor',\n",
       " 'huawei',\n",
       " 'infinix',\n",
       " 'nokia',\n",
       " 'oppo',\n",
       " 'realme',\n",
       " 'samsung',\n",
       " 'vivo',\n",
       " 'xiaomi',\n",
       " 'apple',\n",
       " 'apple ']"
      ]
     },
     "execution_count": 6,
     "metadata": {},
     "output_type": "execute_result"
    }
   ],
   "source": [
    "lazadadf[\"brand\"].drop_duplicates().tolist()\n",
    "psdf[\"brand\"].drop_duplicates().tolist()\n"
   ]
  },
  {
   "cell_type": "markdown",
   "metadata": {},
   "source": [
    "## 2. Data Cleaning \n",
    "There are many duplicated brand names in both lazadadf and psdf. A check of duplicated brand names can be found by using \n",
    "```python\n",
    "drop_duplicates()\n",
    "```\n",
    "on the first attempt.\n",
    "The solution reducing the duplicated/similar names. Eg, by converting \"apple \" to \"apple\"\n"
   ]
  },
  {
   "cell_type": "markdown",
   "metadata": {},
   "source": [
    "### 2.1 Data Cleaning on Priceshop DF"
   ]
  },
  {
   "cell_type": "code",
   "execution_count": 3,
   "metadata": {},
   "outputs": [
    {
     "data": {
      "text/html": [
       "<div>\n",
       "<style scoped>\n",
       "    .dataframe tbody tr th:only-of-type {\n",
       "        vertical-align: middle;\n",
       "    }\n",
       "\n",
       "    .dataframe tbody tr th {\n",
       "        vertical-align: top;\n",
       "    }\n",
       "\n",
       "    .dataframe thead th {\n",
       "        text-align: right;\n",
       "    }\n",
       "</style>\n",
       "<table border=\"1\" class=\"dataframe\">\n",
       "  <thead>\n",
       "    <tr style=\"text-align: right;\">\n",
       "      <th></th>\n",
       "      <th>brand</th>\n",
       "      <th>PSmodelName</th>\n",
       "      <th>PSproductKey</th>\n",
       "      <th>category</th>\n",
       "    </tr>\n",
       "  </thead>\n",
       "  <tbody>\n",
       "    <tr>\n",
       "      <th>643</th>\n",
       "      <td>apple</td>\n",
       "      <td>apple ipad 10.2 (2019) (32gb) wi-fi + mobile n...</td>\n",
       "      <td>apple-ipad-10-2-2019-32gb-wi-fi-plus-mobile-ne...</td>\n",
       "      <td>tablet</td>\n",
       "    </tr>\n",
       "    <tr>\n",
       "      <th>644</th>\n",
       "      <td>apple</td>\n",
       "      <td>apple ipad 10.2 (2019) (128gb) wi-fi + mobile ...</td>\n",
       "      <td>apple-ipad-10-2-2019-128gb-wi-fi-plus-mobile-n...</td>\n",
       "      <td>tablet</td>\n",
       "    </tr>\n",
       "    <tr>\n",
       "      <th>645</th>\n",
       "      <td>apple</td>\n",
       "      <td>apple ipad 10.2 (2019) (128gb) wi-fi</td>\n",
       "      <td>apple-ipad-10-2-2019-128gb-wi-fi</td>\n",
       "      <td>tablet</td>\n",
       "    </tr>\n",
       "    <tr>\n",
       "      <th>646</th>\n",
       "      <td>apple</td>\n",
       "      <td>apple ipad 10.2 (2019) (32gb) wi-fi</td>\n",
       "      <td>apple-ipad-10-2-2019-32gb-wi-fi</td>\n",
       "      <td>tablet</td>\n",
       "    </tr>\n",
       "    <tr>\n",
       "      <th>647</th>\n",
       "      <td>apple</td>\n",
       "      <td>apple ipad air (2019) (64gb) wi-fi + mobile ne...</td>\n",
       "      <td>apple-ipad-air-2019-64gb-wi-fi-plus-mobile-net...</td>\n",
       "      <td>tablet</td>\n",
       "    </tr>\n",
       "    <tr>\n",
       "      <th>...</th>\n",
       "      <td>...</td>\n",
       "      <td>...</td>\n",
       "      <td>...</td>\n",
       "      <td>...</td>\n",
       "    </tr>\n",
       "    <tr>\n",
       "      <th>711</th>\n",
       "      <td>apple</td>\n",
       "      <td>apple ipad air (2020) (256gb) wi-fi + cellular</td>\n",
       "      <td>apple-ipad-air-2020-256gb-wi-fi-cellular</td>\n",
       "      <td>tablet</td>\n",
       "    </tr>\n",
       "    <tr>\n",
       "      <th>712</th>\n",
       "      <td>apple</td>\n",
       "      <td>apple ipad air (2022) (64gb) wi-fi + cellular</td>\n",
       "      <td>apple-ipad-air-2022-64gb-wi-fi-plus-cellular</td>\n",
       "      <td>tablet</td>\n",
       "    </tr>\n",
       "    <tr>\n",
       "      <th>713</th>\n",
       "      <td>apple</td>\n",
       "      <td>apple ipad air (2022) (256gb) wi-fi + cellular</td>\n",
       "      <td>apple-ipad-air-2022-256gb-wi-fi-plus-cellular</td>\n",
       "      <td>tablet</td>\n",
       "    </tr>\n",
       "    <tr>\n",
       "      <th>714</th>\n",
       "      <td>apple</td>\n",
       "      <td>apple ipad air (2022) (64gb) wi-fi</td>\n",
       "      <td>apple-ipad-air-2022-64gb-wi-fi</td>\n",
       "      <td>tablet</td>\n",
       "    </tr>\n",
       "    <tr>\n",
       "      <th>715</th>\n",
       "      <td>apple</td>\n",
       "      <td>apple ipad air (2022) (256gb) wi-fi</td>\n",
       "      <td>apple-ipad-air-2022-256gb-wi-fi</td>\n",
       "      <td>tablet</td>\n",
       "    </tr>\n",
       "  </tbody>\n",
       "</table>\n",
       "<p>73 rows × 4 columns</p>\n",
       "</div>"
      ],
      "text/plain": [
       "     brand                                        PSmodelName  \\\n",
       "643  apple  apple ipad 10.2 (2019) (32gb) wi-fi + mobile n...   \n",
       "644  apple  apple ipad 10.2 (2019) (128gb) wi-fi + mobile ...   \n",
       "645  apple               apple ipad 10.2 (2019) (128gb) wi-fi   \n",
       "646  apple                apple ipad 10.2 (2019) (32gb) wi-fi   \n",
       "647  apple  apple ipad air (2019) (64gb) wi-fi + mobile ne...   \n",
       "..     ...                                                ...   \n",
       "711  apple     apple ipad air (2020) (256gb) wi-fi + cellular   \n",
       "712  apple      apple ipad air (2022) (64gb) wi-fi + cellular   \n",
       "713  apple     apple ipad air (2022) (256gb) wi-fi + cellular   \n",
       "714  apple                 apple ipad air (2022) (64gb) wi-fi   \n",
       "715  apple                apple ipad air (2022) (256gb) wi-fi   \n",
       "\n",
       "                                          PSproductKey category  \n",
       "643  apple-ipad-10-2-2019-32gb-wi-fi-plus-mobile-ne...   tablet  \n",
       "644  apple-ipad-10-2-2019-128gb-wi-fi-plus-mobile-n...   tablet  \n",
       "645                   apple-ipad-10-2-2019-128gb-wi-fi   tablet  \n",
       "646                    apple-ipad-10-2-2019-32gb-wi-fi   tablet  \n",
       "647  apple-ipad-air-2019-64gb-wi-fi-plus-mobile-net...   tablet  \n",
       "..                                                 ...      ...  \n",
       "711           apple-ipad-air-2020-256gb-wi-fi-cellular   tablet  \n",
       "712       apple-ipad-air-2022-64gb-wi-fi-plus-cellular   tablet  \n",
       "713      apple-ipad-air-2022-256gb-wi-fi-plus-cellular   tablet  \n",
       "714                     apple-ipad-air-2022-64gb-wi-fi   tablet  \n",
       "715                    apple-ipad-air-2022-256gb-wi-fi   tablet  \n",
       "\n",
       "[73 rows x 4 columns]"
      ]
     },
     "execution_count": 3,
     "metadata": {},
     "output_type": "execute_result"
    }
   ],
   "source": [
    "pscleaned = psdf.copy() # a copy of the raw data\n",
    "\n",
    "pscleaned.loc[pscleaned[\"brand\"] == \"apple \", \"brand\"] = \"apple\"\n",
    "\n",
    "pscleaned[pscleaned[\"brand\"] == \"apple\"] \n"
   ]
  },
  {
   "cell_type": "code",
   "execution_count": 42,
   "metadata": {},
   "outputs": [
    {
     "data": {
      "text/html": [
       "<div>\n",
       "<style scoped>\n",
       "    .dataframe tbody tr th:only-of-type {\n",
       "        vertical-align: middle;\n",
       "    }\n",
       "\n",
       "    .dataframe tbody tr th {\n",
       "        vertical-align: top;\n",
       "    }\n",
       "\n",
       "    .dataframe thead th {\n",
       "        text-align: right;\n",
       "    }\n",
       "</style>\n",
       "<table border=\"1\" class=\"dataframe\">\n",
       "  <thead>\n",
       "    <tr style=\"text-align: right;\">\n",
       "      <th></th>\n",
       "      <th>productURL</th>\n",
       "      <th>productName</th>\n",
       "      <th>productVariant</th>\n",
       "      <th>price</th>\n",
       "    </tr>\n",
       "  </thead>\n",
       "  <tbody>\n",
       "    <tr>\n",
       "      <th>0</th>\n",
       "      <td>https://www.lazada.com.my/products/honor-magic...</td>\n",
       "      <td>honor-magicbook-x15-i3-2021-space-grey-8gb-ram...</td>\n",
       "      <td>NaN</td>\n",
       "      <td>RM2,299.00</td>\n",
       "    </tr>\n",
       "    <tr>\n",
       "      <th>1</th>\n",
       "      <td>https://www.lazada.com.my/products/huawei-mate...</td>\n",
       "      <td>huawei-matepad-t10s-23gb3264gb-original-huawei...</td>\n",
       "      <td>64GB</td>\n",
       "      <td>RM949.00</td>\n",
       "    </tr>\n",
       "    <tr>\n",
       "      <th>2</th>\n",
       "      <td>https://www.lazada.com.my/products/huawei-mate...</td>\n",
       "      <td>\"\"</td>\n",
       "      <td>32GB</td>\n",
       "      <td>RM829.00</td>\n",
       "    </tr>\n",
       "    <tr>\n",
       "      <th>3</th>\n",
       "      <td>https://www.lazada.com.my/products/huawei-nova...</td>\n",
       "      <td>huawei-nova-8i-8gb128gb-original-huawei-malays...</td>\n",
       "      <td>NaN</td>\n",
       "      <td>RM1,185.00</td>\n",
       "    </tr>\n",
       "    <tr>\n",
       "      <th>4</th>\n",
       "      <td>https://www.lazada.com.my/products/infinix-hot...</td>\n",
       "      <td>infinix-hot-10-6gb128gbnew-model-original-infi...</td>\n",
       "      <td>NaN</td>\n",
       "      <td>RM599.00</td>\n",
       "    </tr>\n",
       "    <tr>\n",
       "      <th>...</th>\n",
       "      <td>...</td>\n",
       "      <td>...</td>\n",
       "      <td>...</td>\n",
       "      <td>...</td>\n",
       "    </tr>\n",
       "    <tr>\n",
       "      <th>89</th>\n",
       "      <td>https://www.lazada.com.my/products/huawei-mate...</td>\n",
       "      <td>huawei-matebook-d-15-10th-i5-2021-mystic-silve...</td>\n",
       "      <td>NaN</td>\n",
       "      <td>RM3,299.00</td>\n",
       "    </tr>\n",
       "    <tr>\n",
       "      <th>90</th>\n",
       "      <td>https://www.lazada.com.my/products/huawei-mate...</td>\n",
       "      <td>huawei-matebook-d14-i5-mystic-silver-8gb-ram-5...</td>\n",
       "      <td>NaN</td>\n",
       "      <td>RM3,399.00</td>\n",
       "    </tr>\n",
       "    <tr>\n",
       "      <th>91</th>\n",
       "      <td>https://www.lazada.com.my/products/huawei-mate...</td>\n",
       "      <td>huawei-matebook-d15-10th-i5-2021-mystic-silver...</td>\n",
       "      <td>NaN</td>\n",
       "      <td>RM2,999.00</td>\n",
       "    </tr>\n",
       "    <tr>\n",
       "      <th>92</th>\n",
       "      <td>https://www.lazada.com.my/products/huawei-mate...</td>\n",
       "      <td>huawei-matebook-x-pro-i5-2021-emerald-green-16...</td>\n",
       "      <td>NaN</td>\n",
       "      <td>RM6,899.00</td>\n",
       "    </tr>\n",
       "    <tr>\n",
       "      <th>93</th>\n",
       "      <td>https://www.lazada.com.my/products/realme-book...</td>\n",
       "      <td>realme-book-11th-i5-2021-8gb-ram-512gb-origina...</td>\n",
       "      <td>NaN</td>\n",
       "      <td>RM3,499.00</td>\n",
       "    </tr>\n",
       "  </tbody>\n",
       "</table>\n",
       "<p>94 rows × 4 columns</p>\n",
       "</div>"
      ],
      "text/plain": [
       "                                           productURL  \\\n",
       "0   https://www.lazada.com.my/products/honor-magic...   \n",
       "1   https://www.lazada.com.my/products/huawei-mate...   \n",
       "2   https://www.lazada.com.my/products/huawei-mate...   \n",
       "3   https://www.lazada.com.my/products/huawei-nova...   \n",
       "4   https://www.lazada.com.my/products/infinix-hot...   \n",
       "..                                                ...   \n",
       "89  https://www.lazada.com.my/products/huawei-mate...   \n",
       "90  https://www.lazada.com.my/products/huawei-mate...   \n",
       "91  https://www.lazada.com.my/products/huawei-mate...   \n",
       "92  https://www.lazada.com.my/products/huawei-mate...   \n",
       "93  https://www.lazada.com.my/products/realme-book...   \n",
       "\n",
       "                                          productName productVariant  \\\n",
       "0   honor-magicbook-x15-i3-2021-space-grey-8gb-ram...            NaN   \n",
       "1   huawei-matepad-t10s-23gb3264gb-original-huawei...           64GB   \n",
       "2                                                  \"\"           32GB   \n",
       "3   huawei-nova-8i-8gb128gb-original-huawei-malays...            NaN   \n",
       "4   infinix-hot-10-6gb128gbnew-model-original-infi...            NaN   \n",
       "..                                                ...            ...   \n",
       "89  huawei-matebook-d-15-10th-i5-2021-mystic-silve...            NaN   \n",
       "90  huawei-matebook-d14-i5-mystic-silver-8gb-ram-5...            NaN   \n",
       "91  huawei-matebook-d15-10th-i5-2021-mystic-silver...            NaN   \n",
       "92  huawei-matebook-x-pro-i5-2021-emerald-green-16...            NaN   \n",
       "93  realme-book-11th-i5-2021-8gb-ram-512gb-origina...            NaN   \n",
       "\n",
       "         price  \n",
       "0   RM2,299.00  \n",
       "1     RM949.00  \n",
       "2     RM829.00  \n",
       "3   RM1,185.00  \n",
       "4     RM599.00  \n",
       "..         ...  \n",
       "89  RM3,299.00  \n",
       "90  RM3,399.00  \n",
       "91  RM2,999.00  \n",
       "92  RM6,899.00  \n",
       "93  RM3,499.00  \n",
       "\n",
       "[94 rows x 4 columns]"
      ]
     },
     "execution_count": 42,
     "metadata": {},
     "output_type": "execute_result"
    }
   ],
   "source": [
    "sz = pd.read_csv(\"lazada-10.csv\")\n",
    "sz"
   ]
  },
  {
   "cell_type": "markdown",
   "metadata": {},
   "source": [
    "### 2.2 Data Cleaning on Lazada DF\n",
    "Because there are more brands found in Lazada's DF, a file of sorted brands' names are exported to a file \"LazadaBrandsRaw.txt\" to have a quick glance. What to map is found under LazadaBrandsMapInfo.txt"
   ]
  },
  {
   "cell_type": "code",
   "execution_count": null,
   "metadata": {},
   "outputs": [],
   "source": [
    "lazBrandList =lazadadf[\"brand\"].drop_duplicates().sort_values() # Retrieving brands from Lazada's DF\n",
    "lazBrandList.to_csv(\"LazadaBrandsRaw.txt\", sep=\"\\n\", index=False)\n",
    "\n"
   ]
  },
  {
   "cell_type": "code",
   "execution_count": 29,
   "metadata": {},
   "outputs": [
    {
     "data": {
      "text/plain": [
       "(35,)"
      ]
     },
     "execution_count": 29,
     "metadata": {},
     "output_type": "execute_result"
    }
   ],
   "source": [
    "lazcleaned = lazadadf.copy() # make a copy of lazadadf\n",
    "#print(\"Lazada's Brands: {}\".format(psbrands)) #duplicated brands on Apple\n",
    "pscleaned.loc[pscleaned[\"brand\"] == \"apple \", \"brand\"] = \"apple\"\n",
    "lazcleaned.loc[lazcleaned[\"brand\"] == \"microsoft surface\", \"brand\"] = \"microsoft\" # convert \"apple \" to \"apple\"\n",
    "lazcleaned.loc[lazcleaned[\"brand\"] == \"no brand\", \"brand\"] = \"nobrand\" \n",
    "lazcleaned.loc[lazcleaned[\"brand\"] == \"oppo phone\", \"brand\"] = \"oppo\" \n",
    "lazcleaned.loc[lazcleaned[\"brand\"] == \"samsung galaxy\", \"brand\"] = \"samsung\" \n",
    "lazcleaned.loc[lazcleaned[\"brand\"] == \"samsung my\", \"brand\"] = \"samsung\" \n",
    "lazcleaned.loc[lazcleaned[\"brand\"] == \"vivo brand\", \"brand\"] = \"vivo\" \n",
    "lazcleaned.loc[lazcleaned[\"brand\"] == \"vivo phone\", \"brand\"] = \"vivo\" \n",
    "lazcleaned.loc[lazcleaned[\"brand\"] == \"vivo.\", \"brand\"] = \"vivo\" \n",
    "lazcleaned.loc[lazcleaned[\"brand\"] == \"xiaomi *\", \"brand\"] = \"xiaomi\" \n",
    "lazcleaned.loc[lazcleaned[\"brand\"] == \"xiaomi redmi\", \"brand\"] = \"xiaomi\" \n",
    "\n",
    "lazbrands = lazcleaned[\"brand\"].drop_duplicates() # A retrival of brands to verify there's no more duplicated brand name\n",
    "lazbrands.shape"
   ]
  },
  {
   "cell_type": "markdown",
   "metadata": {},
   "source": [
    "## 3. A Quick Glance on Brand's distribution\n",
    "Lazada's has 35 brands available, more than Priceshop's as it has 10 brands only. Therefore the comparison should be based on Priceshop's since it has a smaller set of brands.\n",
    "\n",
    "**A quick glance on the top 10 brands with the most entries from both Lazada and Priceshop**"
   ]
  },
  {
   "cell_type": "code",
   "execution_count": 30,
   "metadata": {},
   "outputs": [
    {
     "name": "stdout",
     "output_type": "stream",
     "text": [
      "Lazada's Brands\n",
      "brand\n",
      "samsung      219\n",
      "xiaomi       173\n",
      "huawei       126\n",
      "vivo         118\n",
      "microsoft    110\n",
      "realme        80\n",
      "honor         75\n",
      "oppo          70\n",
      "acer          45\n",
      "hp            43\n",
      "apple         43\n",
      "Name: brand, dtype: int64\n",
      "Priceshop's Brands\n",
      "brand\n",
      "xiaomi     137\n",
      "samsung    135\n",
      "realme      93\n",
      "vivo        81\n",
      "apple       73\n",
      "huawei      71\n",
      "oppo        70\n",
      "honor       39\n",
      "nokia       32\n",
      "infinix     29\n",
      "Name: brand, dtype: int64\n"
     ]
    }
   ],
   "source": [
    "lazBrandStatistics = lazcleaned.groupby(\"brand\")[\"brand\"].count().sort_values(ascending=False)\n",
    "psBrandStatistics = pscleaned.groupby(\"brand\")[\"brand\"].count().sort_values(ascending=False)\n",
    "print(\"Lazada's Brands\")\n",
    "print(lazBrandStatistics.head(11))\n",
    "print(\"Priceshop's Brands\")\n",
    "print(psBrandStatistics.head(10))\n",
    "\n",
    "#lazcleaned[lazcleaned[\"brand\"] == \"apple\"].shape"
   ]
  },
  {
   "cell_type": "markdown",
   "metadata": {},
   "source": [
    "## 4. Filtering\n",
    "Filtering can significantly reduce the number of Lazada's entries to be compared. There are several stages of filtering that would allow us to quickly determine which ProductKey it should be associated with. Moreover, Priceshop doesn't have all the items that we've scraped from Lazada. \n",
    "\n",
    "There are several fields that we can used in Priceshop for the comparison.\n",
    "The strategy is to begin with a field that has a smaller set of choices.\n",
    "In this case, we should begin with category first because Priceshop only has 3 options: mobile, laptop, tablet.\n",
    "\n",
    "The sequence should be the order of:\n",
    "1) category\n",
    "2) brand\n",
    "3) model\n",
    "4) storage \n",
    "5) ram\n",
    "\n",
    "Let's look at what we've got in both Lazada and Priceshop category"
   ]
  },
  {
   "cell_type": "markdown",
   "metadata": {},
   "source": [
    "### 4.1 Extracting Model"
   ]
  },
  {
   "cell_type": "code",
   "execution_count": null,
   "metadata": {},
   "outputs": [],
   "source": [
    "lazmobile = lazadadf[lazadadf[\"category\"] == \"mobiles\"]\n",
    "lazmobhonor = lazmobile[lazmobile[\"brand\"] == \"honor\"]\n",
    "lazmobhonor[\"product\"]\n"
   ]
  },
  {
   "cell_type": "code",
   "execution_count": 16,
   "metadata": {},
   "outputs": [
    {
     "name": "stdout",
     "output_type": "stream",
     "text": [
      "Lazada's category: ['tablets', 'mobiles', 'laptops', 'desktops computers']\n",
      "Priceshop's category: ['mobile', 'tablet', 'laptop']\n"
     ]
    }
   ],
   "source": [
    "lazcategories = lazadadf[\"category\"].drop_duplicates().tolist()\n",
    "print(\"Lazada's category: {}\".format(lazcategories))\n",
    "\n",
    "\n",
    "pscategories = psdf[\"category\"].drop_duplicates().tolist()\n",
    "print(\"Priceshop's category: {}\".format(pscategories))\n"
   ]
  },
  {
   "cell_type": "code",
   "execution_count": null,
   "metadata": {},
   "outputs": [],
   "source": [
    "lazadadf[\"category\"].value_counts()\n",
    "lazcleaned[lazcleaned[\"category\"] == \"vivo\"]"
   ]
  },
  {
   "cell_type": "markdown",
   "metadata": {},
   "source": [
    "### 4.1 Select subset of Lazada's DataFrame : Category and Brands"
   ]
  },
  {
   "cell_type": "markdown",
   "metadata": {},
   "source": [
    "### Matching Products in Priceshop with Lazada's entries\n"
   ]
  },
  {
   "cell_type": "code",
   "execution_count": 32,
   "metadata": {},
   "outputs": [
    {
     "data": {
      "text/plain": [
       "['vivo', 'Y50', '8', '128GB']"
      ]
     },
     "execution_count": 32,
     "metadata": {},
     "output_type": "execute_result"
    }
   ],
   "source": [
    "import re\n",
    "#s/[^A-Za-z0-9]/ /g  \n",
    "\n",
    "# vivo,vivo Y50 (8 + 128GB),vivo-y50-8-plus-128gb,Mobile\n",
    "# vivo,vivo Y50 (8+128GB),vivo-y50-8-plus-128gb,Mobile\n",
    "\n",
    "re.sub(\"[^A-Za-z0-9]\", \" \", \"vivo Y50 (8 + 128GB)\").split()"
   ]
  },
  {
   "cell_type": "markdown",
   "metadata": {},
   "source": [
    "## Data Transformation on Merchants\n",
    "There are duplicates \n"
   ]
  },
  {
   "cell_type": "code",
   "execution_count": null,
   "metadata": {},
   "outputs": [],
   "source": [
    "#psmobile = psdf[psdf[\"category\"] == \"Mobile\"] #Extracting products with Mobile Category\n",
    "psbrands = psdf[\"brand\"].drop_duplicates().tolist()\n",
    "psbrands = list(map(lambda x: x.lower(), psbrands))#extracting brands and convert strings to lowercase\n",
    "psbrands.remove(\"apple \")\n",
    "set(psbrands)"
   ]
  },
  {
   "cell_type": "markdown",
   "metadata": {},
   "source": [
    "The code example below allows user to compare prices and produces a new column"
   ]
  },
  {
   "cell_type": "code",
   "execution_count": null,
   "metadata": {},
   "outputs": [],
   "source": [
    "df1 = lazadadf[lazadadf[\"merchant\"] == \"itworld\"]\n",
    "df2 = lazadadf[lazadadf[\"merchant\"] == \"itworld\"]\n",
    "\n",
    "df1[\"price2\"] = df2[\"price\"]\n",
    "df1[\"price_match\"] = np.where(df1[\"price\"] > 3000, 1, 0)\n",
    "\n",
    "df1\n"
   ]
  },
  {
   "cell_type": "markdown",
   "metadata": {},
   "source": [
    "## Attaching Brands Attributes to LazadaDatabase for smaller set of comparison"
   ]
  },
  {
   "cell_type": "code",
   "execution_count": null,
   "metadata": {},
   "outputs": [],
   "source": [
    "\"honor\" in psbrands\n"
   ]
  },
  {
   "cell_type": "markdown",
   "metadata": {},
   "source": [
    "## Fuzzy Matching\n",
    "Unfortunately after much struggles with web scraping. The struggle doesn't end yet. We need to be able to match the entries in Priceshop with the entry in Lazada. The matching failed with fuzzy match as it's shown by the example below. Besides, if you have several matches. How would you determine where the product should be associated in Priceshop Database.\n",
    "\n",
    "The first comparison has a higher fuzzy ratio even though they are the different products.\n",
    "The second comparison has a lower fuzzy ratio even though they are the same products"
   ]
  },
  {
   "cell_type": "code",
   "execution_count": 15,
   "metadata": {},
   "outputs": [
    {
     "name": "stdout",
     "output_type": "stream",
     "text": [
      "40\n",
      "30\n"
     ]
    }
   ],
   "source": [
    "from fuzzywuzzy import fuzz\n",
    "\n",
    "print(fuzz.ratio(\"honor 9a  [ 3gb + 64gb ] original malaysia set | 1 year warranty by honor malaysia\".lower(), \"iphone original malaysia (3+64GB)\".lower()))\n",
    "print(fuzz.ratio(\"honor 9a  [ 3gb + 64gb ] original malaysia set | 1 year warranty by honor malaysia\".lower(), \"honor 9a (3+64GB)\".lower()))\n",
    "\n"
   ]
  },
  {
   "cell_type": "code",
   "execution_count": null,
   "metadata": {},
   "outputs": [],
   "source": []
  },
  {
   "cell_type": "code",
   "execution_count": null,
   "metadata": {},
   "outputs": [],
   "source": [
    "lazadawithbrands = lazadadf\n"
   ]
  },
  {
   "cell_type": "code",
   "execution_count": null,
   "metadata": {},
   "outputs": [],
   "source": [
    "#lazadawithbrands[\"brand\"] = lazadadf\n",
    "lst = [\"ABC\", \"BAC\", \"CAB\"]\n",
    "str1 = \"AC\"\n",
    "\n",
    "res = [string for string in lst if str1 in string]\n",
    "\n",
    "print(res)"
   ]
  },
  {
   "cell_type": "markdown",
   "metadata": {},
   "source": [
    "### Data Transformation\n",
    "To better relate both database, more information is needed to be retrieved. \n",
    "Extra columns in mobile categories are created to provide the filter needed for data-matching.\n",
    "The columns are **model**, **ram**, **storage**\n",
    "\n",
    "Reference: https://stackoverflow.com/questions/10059673/named-regular-expression-group-pgroup-nameregexp-what-does-p-stand-for\n",
    "https://stackoverflow.com/questions/6930982/how-to-use-a-variable-inside-a-regular-expression"
   ]
  },
  {
   "cell_type": "code",
   "execution_count": 8,
   "metadata": {},
   "outputs": [
    {
     "data": {
      "text/html": [
       "<div>\n",
       "<style scoped>\n",
       "    .dataframe tbody tr th:only-of-type {\n",
       "        vertical-align: middle;\n",
       "    }\n",
       "\n",
       "    .dataframe tbody tr th {\n",
       "        vertical-align: top;\n",
       "    }\n",
       "\n",
       "    .dataframe thead th {\n",
       "        text-align: right;\n",
       "    }\n",
       "</style>\n",
       "<table border=\"1\" class=\"dataframe\">\n",
       "  <thead>\n",
       "    <tr style=\"text-align: right;\">\n",
       "      <th></th>\n",
       "      <th>brand</th>\n",
       "      <th>PSmodelName</th>\n",
       "      <th>PSproductKey</th>\n",
       "      <th>category</th>\n",
       "      <th>model</th>\n",
       "      <th>storage</th>\n",
       "      <th>ram</th>\n",
       "    </tr>\n",
       "  </thead>\n",
       "  <tbody>\n",
       "    <tr>\n",
       "      <th>0</th>\n",
       "      <td>honor</td>\n",
       "      <td>honor view 20 (8+128gb)</td>\n",
       "      <td>honor-view-20-8-128gb</td>\n",
       "      <td>mobile</td>\n",
       "      <td>view 20</td>\n",
       "      <td>0</td>\n",
       "      <td>8</td>\n",
       "    </tr>\n",
       "    <tr>\n",
       "      <th>1</th>\n",
       "      <td>honor</td>\n",
       "      <td>honor 9x lite (4 + 128gb)</td>\n",
       "      <td>honor-9x-lite-4-128gb</td>\n",
       "      <td>mobile</td>\n",
       "      <td>9x lite</td>\n",
       "      <td>0</td>\n",
       "      <td>4</td>\n",
       "    </tr>\n",
       "    <tr>\n",
       "      <th>2</th>\n",
       "      <td>honor</td>\n",
       "      <td>honor 9x (6 + 128gb)</td>\n",
       "      <td>honor-9x-6-128gb</td>\n",
       "      <td>mobile</td>\n",
       "      <td>9x</td>\n",
       "      <td>0</td>\n",
       "      <td>6</td>\n",
       "    </tr>\n",
       "    <tr>\n",
       "      <th>3</th>\n",
       "      <td>honor</td>\n",
       "      <td>honor 8x max (4+128gb)</td>\n",
       "      <td>honor-8x-max-4-plus-128gb</td>\n",
       "      <td>mobile</td>\n",
       "      <td>8x max</td>\n",
       "      <td>0</td>\n",
       "      <td>4</td>\n",
       "    </tr>\n",
       "    <tr>\n",
       "      <th>4</th>\n",
       "      <td>honor</td>\n",
       "      <td>honor 8s (3+64gb)</td>\n",
       "      <td>honor-8s-3-64gb</td>\n",
       "      <td>mobile</td>\n",
       "      <td>8s</td>\n",
       "      <td>0</td>\n",
       "      <td>3</td>\n",
       "    </tr>\n",
       "  </tbody>\n",
       "</table>\n",
       "</div>"
      ],
      "text/plain": [
       "   brand                PSmodelName               PSproductKey category  \\\n",
       "0  honor    honor view 20 (8+128gb)      honor-view-20-8-128gb   mobile   \n",
       "1  honor  honor 9x lite (4 + 128gb)      honor-9x-lite-4-128gb   mobile   \n",
       "2  honor       honor 9x (6 + 128gb)           honor-9x-6-128gb   mobile   \n",
       "3  honor     honor 8x max (4+128gb)  honor-8x-max-4-plus-128gb   mobile   \n",
       "4  honor          honor 8s (3+64gb)            honor-8s-3-64gb   mobile   \n",
       "\n",
       "     model storage ram  \n",
       "0  view 20       0   8  \n",
       "1  9x lite       0   4  \n",
       "2       9x       0   6  \n",
       "3   8x max       0   4  \n",
       "4       8s       0   3  "
      ]
     },
     "execution_count": 8,
     "metadata": {},
     "output_type": "execute_result"
    }
   ],
   "source": [
    "import re\n",
    "def parseRam(brand, title):\n",
    "    temp = r\"\" + brand +'(?P<model>.*)\\((?P<ram>[0-9]+)[^0-9]+(?P<storage>[0-9]+\\s?gb)\\)'\n",
    "    ret =  re.search(temp, title ,re.IGNORECASE)\n",
    "    if ret:\n",
    "        return ret.group(\"ram\").strip()\n",
    "    else:\n",
    "        return 0\n",
    "\n",
    "def parseModel(brand, title):\n",
    "    temp = r\"\" + brand +'(?P<model>.*)\\((?P<ram>[0-9]+)\\s?\\+\\s?(?P<storage>[0-9]+\\s?)gb\\)'\n",
    "    ret =  re.search(temp, title ,re.IGNORECASE)\n",
    "    if ret:\n",
    "        return ret.group(\"model\").strip()\n",
    "    else:\n",
    "        temp = r\"\" + brand +'(?P<model>.*)'\n",
    "        ret =  re.search(temp, title ,re.IGNORECASE)\n",
    "        return ret.group('model').strip()\n",
    "\n",
    "def parseStorage(brand, title):\n",
    "    temp = r\"\" + brand +'(?P<model>.*)\\((?P<ram>[0-9]+)\\s?\\+\\s?(?P<storage>[0-9]+\\s?)gb\\)'\n",
    "    ret =  re.search(temp, title ,re.IGNORECASE)\n",
    "    if ret:\n",
    "        return ret.group(\"storage\").strip()\n",
    "    else:\n",
    "        return 0\n",
    "\n",
    "pscleaned['model'] = pscleaned.apply(lambda x: parseModel(x['brand'], x['PSmodelName']), axis=1)\n",
    "pscleaned['storage'] = pscleaned.apply(lambda x: parseStorage(x['brand'], x['PSmodelName']), axis=1)\n",
    "pscleaned['ram'] = pscleaned.apply(lambda x: parseRam(x['brand'], x['PSmodelName']), axis=1)\n",
    "pscleaned.head()\n",
    "\n",
    "#parseModel(pscleaned[\"brand\"]), pscleaned[\"PSmodelName\"]"
   ]
  },
  {
   "cell_type": "code",
   "execution_count": null,
   "metadata": {},
   "outputs": [],
   "source": []
  }
 ],
 "metadata": {
  "kernelspec": {
   "display_name": "Python 3.8.8 ('base')",
   "language": "python",
   "name": "python3"
  },
  "language_info": {
   "codemirror_mode": {
    "name": "ipython",
    "version": 3
   },
   "file_extension": ".py",
   "mimetype": "text/x-python",
   "name": "python",
   "nbconvert_exporter": "python",
   "pygments_lexer": "ipython3",
   "version": "3.8.8"
  },
  "orig_nbformat": 4,
  "vscode": {
   "interpreter": {
    "hash": "596d6c5ac88c70c447795cf1efab8c5ac37aa965cee213a4a625f003543e71f6"
   }
  }
 },
 "nbformat": 4,
 "nbformat_minor": 2
}
